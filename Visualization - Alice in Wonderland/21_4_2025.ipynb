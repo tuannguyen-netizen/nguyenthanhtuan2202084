{
  "nbformat": 4,
  "nbformat_minor": 0,
  "metadata": {
    "colab": {
      "provenance": []
    },
    "kernelspec": {
      "name": "python3",
      "display_name": "Python 3"
    },
    "language_info": {
      "name": "python"
    }
  },
  "cells": [
    {
      "cell_type": "code",
      "source": [
        "from google.colab import drive\n",
        "drive.mount('/content/drive')\n"
      ],
      "metadata": {
        "id": "XcciKFjNYXsA"
      },
      "execution_count": null,
      "outputs": []
    },
    {
      "cell_type": "code",
      "source": [
        "!pip install nltk wordcloud matplotlib seaborn scikit-learn\n"
      ],
      "metadata": {
        "id": "nkA3LPCtYYDz"
      },
      "execution_count": null,
      "outputs": []
    },
    {
      "cell_type": "code",
      "source": [
        "import re\n",
        "import nltk\n",
        "nltk.download('stopwords')\n",
        "from nltk.corpus import stopwords\n",
        "from nltk.tokenize import RegexpTokenizer\n",
        "\n",
        "# Load text from your Google Drive file\n",
        "with open('/content/drive/MyDrive/CS441_2025/Visualization - Alice in Wonderland/data.txt', 'r', encoding='utf-8') as file:\n",
        "    text = file.read()\n",
        "\n",
        "# Clean and tokenize\n",
        "text_clean = re.sub(r'[^a-zA-Z\\s]', '', text.lower())\n",
        "tokenizer = RegexpTokenizer(r'\\w+')\n",
        "tokens = tokenizer.tokenize(text_clean)\n",
        "\n",
        "# Remove stopwords\n",
        "stop_words = set(stopwords.words('english'))\n",
        "tokens_clean = [word for word in tokens if word not in stop_words]\n"
      ],
      "metadata": {
        "id": "-7j4egO6Z2ui"
      },
      "execution_count": null,
      "outputs": []
    },
    {
      "cell_type": "code",
      "source": [
        "from wordcloud import WordCloud\n",
        "import matplotlib.pyplot as plt\n",
        "from collections import Counter\n",
        "\n",
        "# Word Cloud\n",
        "wordcloud = WordCloud(width=800, height=400, background_color='white').generate(' '.join(tokens_clean))\n",
        "\n",
        "plt.figure(figsize=(10, 5))\n",
        "plt.imshow(wordcloud, interpolation='bilinear')\n",
        "plt.axis('off')\n",
        "plt.title(\"Word Cloud - Alice in Wonderland\")\n",
        "\n",
        "# Save + Show\n",
        "plt.savefig('/content/drive/MyDrive/CS441_2025/Visualization - Alice in Wonderland/wordcloud.png')\n",
        "plt.show()\n"
      ],
      "metadata": {
        "id": "CIiAVSImZ4Xl"
      },
      "execution_count": null,
      "outputs": []
    },
    {
      "cell_type": "code",
      "source": [
        "# Frequency bar chart\n",
        "plt.figure(figsize=(12, 6))\n",
        "plt.bar(words, freqs)\n",
        "plt.xticks(rotation=45)\n",
        "plt.title(\"Top 20 Most Frequent Words\")\n",
        "plt.xlabel(\"Words\")\n",
        "plt.ylabel(\"Frequency\")\n",
        "plt.tight_layout()\n",
        "\n",
        "# Save + Show\n",
        "plt.savefig('/content/drive/MyDrive/CS441_2025/Visualization - Alice in Wonderland/frequency_barchart.png')\n",
        "plt.show()\n"
      ],
      "metadata": {
        "id": "jNDCca3bfxbH"
      },
      "execution_count": null,
      "outputs": []
    },
    {
      "cell_type": "code",
      "source": [
        "# Remove old folder if it exists\n",
        "!rm -rf glove_files\n",
        "\n",
        "# Download GloVe zip file (if not already exists)\n",
        "!wget http://nlp.stanford.edu/data/glove.6B.zip -O glove.6B.zip\n",
        "\n",
        "# Unzip GloVe into glove_files folder, overwrite all files without prompt\n",
        "!unzip -o glove.6B.zip -d glove_files\n",
        "\n"
      ],
      "metadata": {
        "id": "JUK6Timna2Zn"
      },
      "execution_count": null,
      "outputs": []
    },
    {
      "cell_type": "code",
      "source": [
        "import numpy as np\n",
        "\n",
        "# Load GloVe embeddings\n",
        "glove_embeddings = {}\n",
        "with open('glove_files/glove.6B.100d.txt', 'r', encoding='utf8') as f:\n",
        "    for line in f:\n",
        "        values = line.split()\n",
        "        word = values[0]\n",
        "        vector = np.array(values[1:], dtype='float32')\n",
        "        glove_embeddings[word] = vector\n",
        "\n",
        "# Chọn từ phổ biến có trong GloVe\n",
        "word_freq = Counter(tokens_clean)\n",
        "common_words = word_freq.most_common(300)\n",
        "valid_common_words = [(word, freq) for word, freq in common_words if word in glove_embeddings]\n",
        "selected_words = [word for word, _ in valid_common_words[:50]]\n",
        "vectors = np.array([glove_embeddings[word] for word in selected_words])\n"
      ],
      "metadata": {
        "id": "LMsD1cJKa6fI"
      },
      "execution_count": null,
      "outputs": []
    },
    {
      "cell_type": "code",
      "source": [
        "from sklearn.decomposition import PCA\n",
        "\n",
        "if len(vectors) >= 2:\n",
        "    pca = PCA(n_components=2)\n",
        "    reduced = pca.fit_transform(vectors)\n",
        "\n",
        "    plt.figure(figsize=(12, 8))\n",
        "for i, word in enumerate(selected_words):\n",
        "    plt.scatter(reduced[i, 0], reduced[i, 1])\n",
        "    plt.text(reduced[i, 0]+0.01, reduced[i, 1]+0.01, word)\n",
        "plt.title(\"PCA of Word Embeddings (GloVe)\")\n",
        "plt.grid(True)\n",
        "\n",
        "# Save + Show\n",
        "plt.savefig('/content/drive/MyDrive/CS441_2025/Visualization - Alice in Wonderland/pca_plot.png')\n",
        "plt.show()\n",
        "\n"
      ],
      "metadata": {
        "id": "DFW0SPC6a_ug"
      },
      "execution_count": null,
      "outputs": []
    },
    {
      "cell_type": "code",
      "source": [
        "import seaborn as sns\n",
        "import pandas as pd\n",
        "\n",
        "# Cosine similarity\n",
        "def cosine_similarity(vec1, vec2):\n",
        "    return np.dot(vec1, vec2)/(np.linalg.norm(vec1)*np.linalg.norm(vec2))\n",
        "\n",
        "# Similarity matrix\n",
        "similarity_matrix = np.zeros((len(selected_words), len(selected_words)))\n",
        "for i in range(len(selected_words)):\n",
        "    for j in range(len(selected_words)):\n",
        "        similarity_matrix[i][j] = cosine_similarity(\n",
        "            glove_embeddings[selected_words[i]], glove_embeddings[selected_words[j]]\n",
        "        )\n",
        "\n",
        "# Heatmap\n",
        "df_sim = pd.DataFrame(similarity_matrix, index=selected_words, columns=selected_words)\n",
        "plt.figure(figsize=(14, 12))\n",
        "sns.heatmap(df_sim, cmap=\"YlGnBu\")\n",
        "plt.title(\"Word Similarity Heatmap (Cosine Distance)\")\n",
        "\n",
        "# Save + Show\n",
        "plt.savefig('/content/drive/MyDrive/CS441_2025/Visualization - Alice in Wonderland/heatmap_similarity.png')\n",
        "plt.show()\n",
        "\n"
      ],
      "metadata": {
        "id": "8FRdTdYabDi6"
      },
      "execution_count": null,
      "outputs": []
    }
  ]
}